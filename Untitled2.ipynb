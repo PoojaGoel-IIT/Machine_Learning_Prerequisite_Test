{
  "nbformat": 4,
  "nbformat_minor": 0,
  "metadata": {
    "colab": {
      "provenance": []
    },
    "kernelspec": {
      "name": "python3",
      "display_name": "Python 3"
    },
    "language_info": {
      "name": "python"
    }
  },
  "cells": [
    {
      "cell_type": "markdown",
      "source": [
        "1.How many multiplications and additions do you need to perform a matrix multiplication between a (n, k) and (k, m) matrix? Explain."
      ],
      "metadata": {
        "id": "ckrqrvmchkIP"
      }
    },
    {
      "cell_type": "markdown",
      "source": [
        "Answer: Number of multiplication require is nkm.\n",
        "        Number of addition requires is n(k-1)m.\n",
        "reason:every entry in the resultant matrix is a scalar product of two k-vectors.\n",
        "scalar product of two k- vectors requires k multiplication and (k-1) addition.\n",
        "there will be nm entries in the resultant matrix so total multipliaction require is nkm and total addition requires is n(k-1)m. "
      ],
      "metadata": {
        "id": "lAjzFoh_wOvM"
      }
    },
    {
      "cell_type": "markdown",
      "source": [
        "2.Write Python code to multiply the above two matrices. Solve using list of lists and then use numpy. Compare the timing of both solutions. Which one is faster? Why?"
      ],
      "metadata": {
        "id": "RIh6N0q3xjz_"
      }
    },
    {
      "cell_type": "code",
      "source": [
        "import timeit\n",
        "import time\n",
        "# initializing 9*9 matrix \n",
        "A=[[1,2,3,4,5,6,7,8,9],\n",
        "   [10,11,12,13,14,15,16,17,18],\n",
        "   [19,20,21,22,23,24,25,26,27],\n",
        "   [28,29,30,31,32,33,34,35,36],\n",
        "   [37,38,39,40,41,42,43,44,45],\n",
        "   [46,47,48,49,50,51,62,53,54],\n",
        "   [55,56,57,58,59,60,61,62,63],\n",
        "   [64,65,66,67,68,69,70,71,72],\n",
        "   [73,74,75,76,77,78,79,80,81]]\n",
        "B=[[1,2,3,4,5,6,7,8,9],\n",
        "   [10,11,12,13,14,15,16,17,18],\n",
        "   [19,20,21,22,23,24,25,26,27],\n",
        "   [28,29,30,31,32,33,34,35,36],\n",
        "   [37,38,39,40,41,42,43,44,45],\n",
        "   [46,47,48,49,50,51,62,53,54],\n",
        "   [55,56,57,58,59,60,61,62,63],\n",
        "   [64,65,66,67,68,69,70,71,72],\n",
        "   [73,74,75,76,77,78,79,80,81]]\n",
        "result=[[0,0,0,0,0,0,0,0,0],\n",
        "        [0,0,0,0,0,0,0,0,0],\n",
        "        [0,0,0,0,0,0,0,0,0],\n",
        "        [0,0,0,0,0,0,0,0,0],\n",
        "        [0,0,0,0,0,0,0,0,0],\n",
        "        [0,0,0,0,0,0,0,0,0],\n",
        "        [0,0,0,0,0,0,0,0,0],\n",
        "        [0,0,0,0,0,0,0,0,0],\n",
        "        [0,0,0,0,0,0,0,0,0]]\n",
        "start=time.time()      \n",
        "for i in range(len(A)):\n",
        "    for j in range(len(B[0])):\n",
        "      for k in range(len(B)):\n",
        "            result[i][j] += A[i][k] * B[k][j]\n",
        "end=time.time()\n",
        "for r in result:\n",
        "  print(r)\n",
        "print(end-start)"
      ],
      "metadata": {
        "colab": {
          "base_uri": "https://localhost:8080/"
        },
        "id": "LqC1od2mxtx6",
        "outputId": "3090c16c-14c5-43dc-97db-5cb7889a85a9"
      },
      "execution_count": null,
      "outputs": [
        {
          "output_type": "stream",
          "name": "stdout",
          "text": [
            "[2205, 2250, 2295, 2340, 2385, 2430, 2535, 2520, 2565]\n",
            "[5202, 5328, 5454, 5580, 5706, 5832, 6108, 6084, 6210]\n",
            "[8199, 8406, 8613, 8820, 9027, 9234, 9681, 9648, 9855]\n",
            "[11196, 11484, 11772, 12060, 12348, 12636, 13254, 13212, 13500]\n",
            "[14193, 14562, 14931, 15300, 15669, 16038, 16827, 16776, 17145]\n",
            "[17740, 18200, 18660, 19120, 19580, 20040, 21010, 20960, 21420]\n",
            "[20187, 20718, 21249, 21780, 22311, 22842, 23973, 23904, 24435]\n",
            "[23184, 23796, 24408, 25020, 25632, 26244, 27546, 27468, 28080]\n",
            "[26181, 26874, 27567, 28260, 28953, 29646, 31119, 31032, 31725]\n",
            "0.00027179718017578125\n"
          ]
        }
      ]
    },
    {
      "cell_type": "markdown",
      "source": [
        "part-2 using numpy"
      ],
      "metadata": {
        "id": "AG2AXRhj1hE4"
      }
    },
    {
      "cell_type": "code",
      "source": [
        "import numpy as np\n",
        "A=np.array([[1,2,3,4,5,6,7,8,9],\n",
        "   [10,11,12,13,14,15,16,17,18],\n",
        "   [19,20,21,22,23,24,25,26,27],\n",
        "   [28,29,30,31,32,33,34,35,36],\n",
        "   [37,38,39,40,41,42,43,44,45],\n",
        "   [46,47,48,49,50,51,62,53,54],\n",
        "   [55,56,57,58,59,60,61,62,63],\n",
        "   [64,65,66,67,68,69,70,71,72],\n",
        "   [73,74,75,76,77,78,79,80,81]])\n",
        "B=np.array([[1,2,3,4,5,6,7,8,9],\n",
        "   [10,11,12,13,14,15,16,17,18],\n",
        "   [19,20,21,22,23,24,25,26,27],\n",
        "   [28,29,30,31,32,33,34,35,36],\n",
        "   [37,38,39,40,41,42,43,44,45],\n",
        "   [46,47,48,49,50,51,62,53,54],\n",
        "   [55,56,57,58,59,60,61,62,63],\n",
        "   [64,65,66,67,68,69,70,71,72],\n",
        "   [73,74,75,76,77,78,79,80,81]])\n",
        "%timeit result=np.matmul(A,B)\n"
      ],
      "metadata": {
        "id": "uY1YQs0i1kHN",
        "colab": {
          "base_uri": "https://localhost:8080/"
        },
        "outputId": "11679cc2-27ed-4f1d-aaea-2cac77e8aa8b"
      },
      "execution_count": null,
      "outputs": [
        {
          "output_type": "stream",
          "name": "stdout",
          "text": [
            "1.73 µs ± 10.5 ns per loop (mean ± std. dev. of 7 runs, 1000000 loops each)\n"
          ]
        }
      ]
    },
    {
      "cell_type": "markdown",
      "source": [
        "numpy takes less time as compare to list of lists because numpy uses collection of homogeneous data-type whereas list of lists are collection of heterogeneous data type . in case of heterogeneous data type for every element a structure having data type gets created whereas in case of numpy c type implementation is performed in the backend."
      ],
      "metadata": {
        "id": "OMWimZQd1-ID"
      }
    },
    {
      "cell_type": "markdown",
      "source": [
        "explaination:"
      ],
      "metadata": {
        "id": "xDJvroTQ1_D6"
      }
    },
    {
      "cell_type": "markdown",
      "source": [
        "3.Finding the highest element in a list requires one pass of the array. Finding the second highest element requires 2 passes of the the array. Using this method, what is the time complexity of finding the median of the array? Can you suggest a better method? Can you implement both these methods in Python and compare against numpy.median routine in terms of time?"
      ],
      "metadata": {
        "id": "LjgBh7Cq2IDW"
      }
    },
    {
      "cell_type": "code",
      "source": [
        "#method 1\n",
        "import time\n",
        "lis=[1,9,4,2,7,8,10]\n",
        "start=time.time()\n",
        "n=len(lis)\n",
        "for i in range(0,n//2):\n",
        "  maximum=max(lis)\n",
        "  lis.remove(maximum)\n",
        "if(n%2==0):\n",
        "  maximum1=max(lis)\n",
        "  lis.remove(maximum1)\n",
        "  maximum2=max(lis)\n",
        "  lis.remove(maximum2)\n",
        "  print((maximum1+maximum2)/2.0)\n",
        "else:\n",
        "  maximum=max(lis)\n",
        "  print(maximum)\n",
        "end=time.time()\n",
        "print(end-start)\n",
        "  \n",
        "\n"
      ],
      "metadata": {
        "id": "b1p8Yzcq3de7",
        "colab": {
          "base_uri": "https://localhost:8080/"
        },
        "outputId": "f6091301-98a6-4631-f7c5-355b0933e7d8"
      },
      "execution_count": 22,
      "outputs": [
        {
          "output_type": "stream",
          "name": "stdout",
          "text": [
            "7\n",
            "0.0013172626495361328\n"
          ]
        }
      ]
    },
    {
      "cell_type": "code",
      "source": [
        "#method-2 sort the list/array requires nlogn time complexity\n",
        "lis=[1,9,4,2,7,8,10]\n",
        "%timeit lis.sort()\n",
        "lislen=len(lis)\n",
        "index=(lislen-1)//2\n",
        "if(lislen%2==0):\n",
        "  print((lis[index]+lis[index+1])/2.0)\n",
        "else:\n",
        "  print(lis[index])\n"
      ],
      "metadata": {
        "colab": {
          "base_uri": "https://localhost:8080/"
        },
        "id": "8dRizvdrf4zL",
        "outputId": "325e889b-6c91-4570-f984-be1e669d89f2"
      },
      "execution_count": 19,
      "outputs": [
        {
          "output_type": "stream",
          "name": "stdout",
          "text": [
            "123 ns ± 1.4 ns per loop (mean ± std. dev. of 7 runs, 10000000 loops each)\n",
            "7\n"
          ]
        }
      ]
    },
    {
      "cell_type": "code",
      "source": [
        "#method 3 using numpy.median\n",
        "import numpy as np\n",
        "import time\n",
        "a=[1,9,4,2,7,8,10]\n",
        "start=time.time()\n",
        "result=np.median(a)\n",
        "end=time.time()\n",
        "print(result)\n",
        "print(end-start)"
      ],
      "metadata": {
        "colab": {
          "base_uri": "https://localhost:8080/"
        },
        "id": "R4kMtNHHhMOV",
        "outputId": "25cac653-9316-4201-fa8b-566724c7d7a3"
      },
      "execution_count": 14,
      "outputs": [
        {
          "output_type": "stream",
          "name": "stdout",
          "text": [
            "7.0\n",
            "0.0013797283172607422\n"
          ]
        }
      ]
    },
    {
      "cell_type": "markdown",
      "source": [],
      "metadata": {
        "id": "s0bk64DOmqAj"
      }
    },
    {
      "cell_type": "markdown",
      "source": [
        "4.What is the gradient of the following function with respect to x and y?\n",
        "(x^2)*y+(y^3)*sin(x)"
      ],
      "metadata": {
        "id": "x2ARZ7SQ7RWI"
      }
    },
    {
      "cell_type": "markdown",
      "source": [
        "![question4.jpeg](data:image/jpeg;base64,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)"
      ],
      "metadata": {
        "id": "Yv7u_AiAKNsE"
      }
    },
    {
      "cell_type": "markdown",
      "source": [
        "5.Use JAX to confirm the gradient evaluated by your method matches the analytical solution corresponding to a few random values of x and y\n",
        "\n"
      ],
      "metadata": {
        "id": "XMEzbl8Z72r-"
      }
    },
    {
      "cell_type": "code",
      "source": [
        "import jax\n",
        "import jax.numpy as jnp\n",
        "def function(x,y):\n",
        "  return ((x**2)*y+(y**3)*(jnp.sin(x)))\n",
        "x=2.9\n",
        "y=2.5\n",
        "function_dx_dy = jax.grad(function,argnums=(0,1))(x,y)\n",
        "print(function_dx_dy)"
      ],
      "metadata": {
        "id": "-qInC82z8BUn",
        "colab": {
          "base_uri": "https://localhost:8080/"
        },
        "outputId": "ad50edc3-315d-4fed-b1e4-612752dc8fa3"
      },
      "execution_count": 24,
      "outputs": [
        {
          "output_type": "stream",
          "name": "stderr",
          "text": [
            "WARNING:jax._src.lib.xla_bridge:No GPU/TPU found, falling back to CPU. (Set TF_CPP_MIN_LOG_LEVEL=0 and rerun for more info.)\n"
          ]
        },
        {
          "output_type": "stream",
          "name": "stdout",
          "text": [
            "(DeviceArray(-0.67122173, dtype=float32, weak_type=True), DeviceArray(12.895924, dtype=float32, weak_type=True))\n"
          ]
        }
      ]
    },
    {
      "cell_type": "markdown",
      "source": [
        "6.Use sympy to confirm that you obtain the same gradient analytically."
      ],
      "metadata": {
        "id": "O2JSfR-s8pD-"
      }
    },
    {
      "cell_type": "code",
      "source": [
        "from sympy import *\n",
        "import math\n",
        "x,y=symbols('x,y')\n",
        "diff_x=diff((x**2)*y + (y**3)*sin(x),x)\n",
        "diff_y=diff((x**2)*y + (y**3)*sin(x),y)\n",
        "print(diff_x)\n",
        "print(diff_y)\n",
        "a=2.9\n",
        "b=2.5\n",
        "r=2*a*b+(b**3)*math.cos(a)\n",
        "print(r)\n",
        "a**2+3*(b**2)*math.sin(a)"
      ],
      "metadata": {
        "id": "42kRsUZd8uW_",
        "colab": {
          "base_uri": "https://localhost:8080/"
        },
        "outputId": "b4ff6c3a-904c-4274-b03a-03a625aa277f"
      },
      "execution_count": 4,
      "outputs": [
        {
          "output_type": "stream",
          "name": "stdout",
          "text": [
            "2*x*y + y**3*cos(x)\n",
            "x**2 + 3*y**2*sin(x)\n",
            "-0.6712213304623518\n"
          ]
        },
        {
          "output_type": "execute_result",
          "data": {
            "text/plain": [
              "12.89592492276217"
            ]
          },
          "metadata": {},
          "execution_count": 4
        }
      ]
    },
    {
      "cell_type": "markdown",
      "source": [
        "7.Create a Python nested dictionary to represent hierarchical information. We want to store record of students and their marks. Something like:\n",
        "\n",
        "2022\n",
        "Branch 1\n",
        "Roll Number: 1, Name: N, Marks:\n",
        "Maths: 100, English: 70 …\n",
        "Branch 2\n",
        "2023\n",
        "Branch 1\n",
        "Branch 2\n",
        "2024\n",
        "Branch 1\n",
        "Branch 2\n",
        "2025\n",
        "Branch 1\n",
        "Branch 2"
      ],
      "metadata": {
        "id": "FqVAN1mU8u3U"
      }
    },
    {
      "cell_type": "code",
      "source": [
        "dp={\"2022\":{\"Branch 1\":{\"Roll Number:\":22210029,\"Name\":\"Pooja Goel\",\"Marks\":{\"Maths:\":100,\"English:\":70}},\n",
        "            \"Branch 2\":{\"Roll Number:\":22210040,\"Name\":\"pinki\",\"Marks\":{\"Maths:\":50,\"English:\":90}}},\n",
        "    \"2023\":{\"Branch 1\":{\"Roll Number:\":22210047,\"Name\":\"sai\",\"Marks\":{\"Maths:\":10,\"English:\":50}},\n",
        "            \"Branch 2\":{\"Roll Number:\":22210089,\"Name\":\"Madhuri\",\"Marks\":{\"Maths:\":80,\"English:\":40}}},\n",
        "    \"2024\":{\"Branch 1\":{\"Roll Number:\":22210088,\"Name\":\"ashwani\",\"Marks\":{\"Maths:\":90,\"English:\":80}},\n",
        "            \"Branch 2\":{\"Roll Number:\":22210099,\"Name\":\"Anuj\",\"Marks\":{\"Maths:\":60,\"English:\":30}}},\n",
        "    \"2025\":{\"Branch 1\":{\"Roll Number:\":22210044,\"Name\":\"perveen\",\"Marks\":{\"Maths:\":90,\"English:\":40}},\n",
        "            \"Branch 2\":{\"Roll Number:\":22210022,\"Name\":\"Riddi\",\"Marks\":{\"Maths:\":10,\"English:\":20}}}}\n",
        "print(dp)"
      ],
      "metadata": {
        "id": "4R3lIz7B8zn1"
      },
      "execution_count": null,
      "outputs": []
    },
    {
      "cell_type": "markdown",
      "source": [
        "8.Store the same information using Python classes. We have an overall database which is a list of year objects. Each year contains a list of branches. Each branch contains a list of students. Each student has some properties like name, roll number and has marks in some subjects.\n",
        "\n"
      ],
      "metadata": {
        "id": "vsqwXN9Q9MSN"
      }
    },
    {
      "cell_type": "code",
      "source": [
        "class Marks():\n",
        "    def __init__(self,studentmarks):\n",
        "        self.math,self.english,self.physics=studentmarks\n",
        "class Student():\n",
        "    def __init__(self,studentname,number,studentmarks):\n",
        "        self.studentname=studentname\n",
        "        self.rollnumber=number\n",
        "        self.marks=Marks(studentmarks)\n",
        "class Branches():\n",
        "        def __init__(self,b):\n",
        "            self.branch_name=b\n",
        "            self.students=[]\n",
        "            student_names=['Pooja','Goel']\n",
        "            student_rollno=[22210029,22210028]\n",
        "            student_marks=[[80,90,100],[19,68,78]]\n",
        "            for i in range(len(student_names)):\n",
        "                self.students.append(Student(student_names[i],student_rollno[i],student_marks[i]))\n",
        "class Year():\n",
        "    def __init__(self,y):\n",
        "        self.y=y\n",
        "        self.branches=[]\n",
        "        for i in range(2):\n",
        "            self.branches.append(Branches('Branch '+str(i+1)))\n",
        "years=[Year(2022),Year(2023),Year(2024),Year(2025)]\n"
      ],
      "metadata": {
        "id": "WyL-b1CT9gYb"
      },
      "execution_count": 23,
      "outputs": []
    },
    {
      "cell_type": "code",
      "source": [],
      "metadata": {
        "id": "Dti2-Qy-m0kb"
      },
      "execution_count": null,
      "outputs": []
    },
    {
      "cell_type": "markdown",
      "source": [
        "9.Using matplotlib plot the following functions on the domain: x = 0.5 to 100.0 in steps of 0.5.\n",
        "\n",
        " \n",
        " \n"
      ],
      "metadata": {
        "id": "QemMhjSi9hMx"
      }
    },
    {
      "cell_type": "code",
      "source": [
        "#function y=x\n",
        "import numpy as np \n",
        "import matplotlib.pyplot as plt\n",
        "plt.ylabel('y=x')\n",
        "plt.xlabel('numbers from 0.5 to 100.0 with step 0.5')  \n",
        "x = np.arange(0.5,100,0.5)\n",
        "y=x\n",
        "plt.plot(x, y,'b-') \n",
        "plt.show()\n"
      ],
      "metadata": {
        "id": "C-iKa-PDB6w5",
        "colab": {
          "base_uri": "https://localhost:8080/",
          "height": 279
        },
        "outputId": "ab81962e-dfa6-41c9-dbe1-30797a14e377"
      },
      "execution_count": null,
      "outputs": [
        {
          "output_type": "display_data",
          "data": {
            "text/plain": [
              "<Figure size 432x288 with 1 Axes>"
            ],
            "image/png": "[encoded data removed]"
          },
          "metadata": {
            "needs_background": "light"
          }
        }
      ]
    },
    {
      "cell_type": "code",
      "source": [
        "#function y=x^2\n",
        "import numpy as np \n",
        "import matplotlib.pyplot as plt\n",
        "plt.ylabel('y=x^2')\n",
        "plt.xlabel('numbers from 0.5 to 100.0 with step 0.5')  \n",
        "x = np.arange(0.5,100,0.5)\n",
        "y=x**2\n",
        "plt.plot(x, y,'b-') \n",
        "plt.show()"
      ],
      "metadata": {
        "colab": {
          "base_uri": "https://localhost:8080/",
          "height": 279
        },
        "id": "7OhbJdFDEg8F",
        "outputId": "484a71de-8553-4dbc-dfa6-0b3f9a419cff"
      },
      "execution_count": null,
      "outputs": [
        {
          "output_type": "display_data",
          "data": {
            "text/plain": [
              "<Figure size 432x288 with 1 Axes>"
            ],
            "image/png": "[encoded data removed]"
          },
          "metadata": {
            "needs_background": "light"
          }
        }
      ]
    },
    {
      "cell_type": "code",
      "source": [
        "#function y=x^3/100\n",
        "import numpy as np \n",
        "import matplotlib.pyplot as plt\n",
        "plt.ylabel('y=x^3/100')\n",
        "plt.xlabel('numbers from 0.5 to 100.0 with step 0.5')  \n",
        "x = np.arange(0.5,100,0.5)\n",
        "y=x**3/100\n",
        "plt.plot(x, y,'b-') \n",
        "plt.show()"
      ],
      "metadata": {
        "colab": {
          "base_uri": "https://localhost:8080/",
          "height": 279
        },
        "id": "z4j3OXKJE8Og",
        "outputId": "1ba41282-ae05-4c53-c171-500465dd0af0"
      },
      "execution_count": null,
      "outputs": [
        {
          "output_type": "display_data",
          "data": {
            "text/plain": [
              "<Figure size 432x288 with 1 Axes>"
            ],
            "image/png": "[encoded data removed]"
          },
          "metadata": {
            "needs_background": "light"
          }
        }
      ]
    },
    {
      "cell_type": "code",
      "source": [
        "#function y=sin(x)\n",
        "import numpy as np \n",
        "import matplotlib.pyplot as plt\n",
        "plt.ylabel('y=sin(x)')\n",
        "plt.xlabel('numbers from 0.5 to 100.0 with step 0.5')  \n",
        "x = np.arange(0.5,100,0.5)\n",
        "y=np.sin(x)\n",
        "plt.plot(x, y,'b-') \n",
        "plt.show()\n"
      ],
      "metadata": {
        "colab": {
          "base_uri": "https://localhost:8080/",
          "height": 279
        },
        "id": "lQDlHbSJFOTY",
        "outputId": "a4cec531-7c69-4f47-c9f3-57585a992988"
      },
      "execution_count": null,
      "outputs": [
        {
          "output_type": "display_data",
          "data": {
            "text/plain": [
              "<Figure size 432x288 with 1 Axes>"
            ],
            "image/png": "[encoded data removed]"
          },
          "metadata": {
            "needs_background": "light"
          }
        }
      ]
    },
    {
      "cell_type": "code",
      "source": [
        "#function y=sin(x)/x\n",
        "import numpy as np \n",
        "import matplotlib.pyplot as plt\n",
        "plt.ylabel('y=sin(x)/x')\n",
        "plt.xlabel('numbers from 0.5 to 100.0 with step 0.5')  \n",
        "x = np.arange(0.5,100,0.5)\n",
        "y=np.sin(x)/x\n",
        "plt.plot(x, y,'b-') \n",
        "plt.show()"
      ],
      "metadata": {
        "colab": {
          "base_uri": "https://localhost:8080/",
          "height": 280
        },
        "id": "3IaI-hvQFfDI",
        "outputId": "e96adf0a-0465-4961-cdec-4023b89317f4"
      },
      "execution_count": null,
      "outputs": [
        {
          "output_type": "display_data",
          "data": {
            "text/plain": [
              "<Figure size 432x288 with 1 Axes>"
            ],
            "image/png": "[encoded data removed]"
          },
          "metadata": {
            "needs_background": "light"
          }
        }
      ]
    },
    {
      "cell_type": "code",
      "source": [
        "#function y=log(x)\n",
        "import numpy as np \n",
        "import matplotlib.pyplot as plt\n",
        "plt.ylabel('y=log(x)')\n",
        "plt.xlabel('numbers from 0.5 to 100.0 with step 0.5')  \n",
        "x = np.arange(0.5,100,0.5)\n",
        "y=np.log(x)\n",
        "plt.plot(x, y,'b-') \n",
        "plt.show()"
      ],
      "metadata": {
        "colab": {
          "base_uri": "https://localhost:8080/",
          "height": 279
        },
        "id": "cRH9mkn_F69L",
        "outputId": "47e138e1-f75e-4b53-a427-dd38312e51a0"
      },
      "execution_count": null,
      "outputs": [
        {
          "output_type": "display_data",
          "data": {
            "text/plain": [
              "<Figure size 432x288 with 1 Axes>"
            ],
            "image/png": "[encoded data removed]"
          },
          "metadata": {
            "needs_background": "light"
          }
        }
      ]
    },
    {
      "cell_type": "code",
      "source": [
        "#function y=e^x\n",
        "import numpy as np \n",
        "import matplotlib.pyplot as plt\n",
        "plt.ylabel('y=e^x')\n",
        "plt.xlabel('numbers from 0.5 to 100.0 with step 0.5')  \n",
        "x = np.arange(0.5,100,0.5)\n",
        "y=np.exp(x)\n",
        "plt.plot(x, y,'b-') \n",
        "plt.show()"
      ],
      "metadata": {
        "colab": {
          "base_uri": "https://localhost:8080/",
          "height": 290
        },
        "id": "LIiAwD-0GGKx",
        "outputId": "f0065301-6581-4743-e670-5c0491b2e3d5"
      },
      "execution_count": null,
      "outputs": [
        {
          "output_type": "display_data",
          "data": {
            "text/plain": [
              "<Figure size 432x288 with 1 Axes>"
            ],
            "image/png": "[encoded data removed]"
          },
          "metadata": {
            "needs_background": "light"
          }
        }
      ]
    },
    {
      "cell_type": "markdown",
      "source": [
        "10.Using numpy generate a matrix of size 20X5 containing random numbers drawn uniformly from the range of 1 to 2. Using Pandas create a dataframe out of this matrix. Name the columns of the dataframe as “a”, “b”, “c”, “d”, “e”. Find the column with the highest standard deviation. Find the row with the lowest mean."
      ],
      "metadata": {
        "id": "jt0nv6QxGtzE"
      }
    },
    {
      "cell_type": "code",
      "source": [
        "import numpy as np\n",
        "import pandas as pd\n",
        "from numpy import random\n",
        "x=random.uniform(1,2,size=(20,5))\n",
        "dy=pd.DataFrame(x,columns=[\"a\",\"b\",\"c\",\"d\",\"e\"])\n",
        "print(dy)\n",
        "dy_std=dy.std()\n",
        "max_std=max(dy_std)\n",
        "for i,item1 in dy_std.items():\n",
        "    if item1==max_std:\n",
        "        column=i\n",
        "print('Max Standard Deviation column:',column,'and its value is:',max_std)\n",
        "dy_mean=dy.mean(axis=1)\n",
        "min_mean=min(dy_mean)\n",
        "for i,item2 in dy_mean.items():\n",
        "    if item2==min_mean:\n",
        "        row=i\n",
        "print('row:',row,'and its value is:',min_mean)\n"
      ],
      "metadata": {
        "colab": {
          "base_uri": "https://localhost:8080/"
        },
        "id": "R4qVYHLtGw8x",
        "outputId": "2ca6bd29-03b8-4129-fdb9-9ec60781536f"
      },
      "execution_count": null,
      "outputs": [
        {
          "output_type": "stream",
          "name": "stdout",
          "text": [
            "           a         b         c         d         e\n",
            "0   1.818519  1.913192  1.468443  1.905935  1.719873\n",
            "1   1.652927  1.063709  1.859073  1.426396  1.138178\n",
            "2   1.772176  1.454581  1.719953  1.257299  1.898571\n",
            "3   1.559401  1.697491  1.966464  1.778218  1.522921\n",
            "4   1.617033  1.181398  1.006769  1.119577  1.135490\n",
            "5   1.327091  1.795806  1.633819  1.096965  1.958311\n",
            "6   1.788820  1.739827  1.637642  1.883489  1.474440\n",
            "7   1.153090  1.768780  1.480213  1.525016  1.339091\n",
            "8   1.130492  1.076657  1.271561  1.940392  1.895501\n",
            "9   1.618635  1.877791  1.318867  1.984639  1.984398\n",
            "10  1.522357  1.816353  1.319073  1.231144  1.434272\n",
            "11  1.952819  1.346552  1.875360  1.879374  1.381564\n",
            "12  1.798377  1.610314  1.986940  1.063725  1.759861\n",
            "13  1.243802  1.851794  1.725905  1.427863  1.966289\n",
            "14  1.487162  1.903574  1.365164  1.968532  1.424697\n",
            "15  1.879877  1.460060  1.191054  1.318900  1.436857\n",
            "16  1.697313  1.398756  1.869663  1.464399  1.692733\n",
            "17  1.638400  1.709331  1.313932  1.627875  1.680663\n",
            "18  1.353596  1.402945  1.527794  1.819284  1.174375\n",
            "19  1.226534  1.818926  1.463362  1.245763  1.159838\n",
            "Max Standard Deviation column: d and its value is: 0.3237853969114611\n",
            "row: 4 and its value is: 1.2120534523749762\n"
          ]
        }
      ]
    },
    {
      "cell_type": "markdown",
      "source": [
        "11.Add a new column to the dataframe called “f” which is the sum of the columns “a”, “b”, “c”, “d”, “e”. Create another column called “g”. The value in the column “g” should be “LT8” if the value in the column “f” is less than 8 and “GT8” otherwise. Find the number of rows in the dataframe where the value in the column “g” is “LT8”. Find the standard deviation of the column “f” for the rows where the value in the column “g” is “LT8” and “GT8” respectively."
      ],
      "metadata": {
        "id": "pAgdk8YBHiAe"
      }
    },
    {
      "cell_type": "code",
      "source": [
        "import numpy as np\n",
        "import pandas as pd\n",
        "from numpy import random\n",
        "x=random.uniform(1,2,size=(20,5))\n",
        "dy=pd.DataFrame(x,columns=[\"a\",\"b\",\"c\",\"d\",\"e\"])\n",
        "dy[\"f\"]=dy.loc[:,[\"a\",\"b\",\"c\",\"d\",\"e\"]].sum(axis=1)\n",
        "dy[\"g\"]=np.where(dy[\"f\"]<8,\"LT8\",\"GT8\")\n",
        "dy['g'].value_counts()['LT8']\n",
        "dy_LT8=dy.loc[dy['g']=='LT8']\n",
        "dy_GT8=dy.loc[dy['g']=='GT8']\n",
        "print('standard deviation of LT8 f column:',dy_LT8['f'].std())\n",
        "print('standard deviation of GT8 f column:',dy_GT8['f'].std())"
      ],
      "metadata": {
        "colab": {
          "base_uri": "https://localhost:8080/"
        },
        "id": "LBOFissKHnv7",
        "outputId": "01499b44-4173-4b05-b8b7-1689f1126b15"
      },
      "execution_count": 8,
      "outputs": [
        {
          "output_type": "stream",
          "name": "stdout",
          "text": [
            "standard deviation of LT8 f column: 0.4459892154570864\n",
            "standard deviation of GT8 f column: 0.22149493082295194\n"
          ]
        }
      ]
    },
    {
      "cell_type": "markdown",
      "source": [
        "12.Write a small piece of code to explain broadcasting in numpy."
      ],
      "metadata": {
        "id": "FDlbAT0PHpl1"
      }
    },
    {
      "cell_type": "code",
      "source": [
        "import numpy as np\n",
        "a=np.array([[12,13,14],[1,3,4],[7,8,9]])\n",
        "b=np.array([50,70,90])\n",
        "print(a+b)"
      ],
      "metadata": {
        "colab": {
          "base_uri": "https://localhost:8080/"
        },
        "id": "N83QiTs6HtHe",
        "outputId": "c2ebce25-924c-47bd-f26d-c7fe3b3dd0d5"
      },
      "execution_count": null,
      "outputs": [
        {
          "output_type": "stream",
          "name": "stdout",
          "text": [
            "[[ 62  83 104]\n",
            " [ 51  73  94]\n",
            " [ 57  78  99]]\n"
          ]
        }
      ]
    },
    {
      "cell_type": "markdown",
      "source": [
        "13.Write a function to compute the argmin of a numpy array. The function should take a numpy array as input and return the index of the minimum element. You can use the np.argmin function to verify your solution."
      ],
      "metadata": {
        "id": "XNuOXyirICUz"
      }
    },
    {
      "cell_type": "code",
      "source": [
        "import numpy as np\n",
        "np.random.seed(42)\n",
        "def argmin(a):\n",
        "    min=a[0]\n",
        "    for i in range(len(a)):\n",
        "        if a[i]<=min:\n",
        "            min=a[i]\n",
        "            index=i\n",
        "    return index\n",
        "a=np.random.randint(50,size=20)\n",
        "print(np.argmin(a)==argmin(a))\n",
        "%timeit argmin(a)\n",
        "%timeit np.argmin(a)"
      ],
      "metadata": {
        "id": "elU0mpWyIJa9",
        "colab": {
          "base_uri": "https://localhost:8080/"
        },
        "outputId": "76a0377e-6cd0-4be6-fd1d-830670af1047"
      },
      "execution_count": 2,
      "outputs": [
        {
          "output_type": "stream",
          "name": "stdout",
          "text": [
            "True\n",
            "10.2 µs ± 889 ns per loop (mean ± std. dev. of 7 runs, 100000 loops each)\n",
            "3.78 µs ± 763 ns per loop (mean ± std. dev. of 7 runs, 100000 loops each)\n"
          ]
        }
      ]
    }
  ]
}